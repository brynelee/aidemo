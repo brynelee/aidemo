{
 "cells": [
  {
   "cell_type": "markdown",
   "id": "8cf5e788",
   "metadata": {},
   "source": [
    "下面这段代码，是来自 OpenAI Cookbook 里面的一个例子。它是用同样的方法，来判断亚马逊提供的用户对一些食物的评价，这个评价数据里面，不只有用户给出的评论内容，还有用户给这些食物打了几颗星。这些几颗星的信息，正好可以拿来验证我们这个方法有多准。对于用户打出 1～2 星的，我们认为是差评，对于 4～5 星的，我们认为是好评。我们可以通过 Pandas，将这个 CSV 数据读取到内存里面。为了避免重新调用 OpenAI 的 API 浪费钱，这个数据集里，已经将获取到的 Embedding 信息保存下来了，不需要再重新计算。"
   ]
  },
  {
   "cell_type": "code",
   "execution_count": 3,
   "id": "af49064f",
   "metadata": {},
   "outputs": [],
   "source": [
    "\n",
    "import pandas as pd\n",
    "import numpy as np\n",
    "\n",
    "from sklearn.metrics import classification_report\n",
    "\n",
    "datafile_path = \"data/fine_food_reviews_with_embeddings_1k.csv\"\n",
    "\n",
    "df = pd.read_csv(datafile_path)\n",
    "df[\"embedding\"] = df.embedding.apply(eval).apply(np.array)\n",
    "\n",
    "# convert 5-star rating to binary sentiment\n",
    "df = df[df.Score != 3]\n",
    "df[\"sentiment\"] = df.Score.replace({1: \"negative\", 2: \"negative\", 4: \"positive\", 5: \"positive\"})"
   ]
  },
  {
   "cell_type": "code",
   "execution_count": 4,
   "id": "4a43833f",
   "metadata": {},
   "outputs": [
    {
     "data": {
      "text/plain": [
       "<bound method NDFrame.head of      Unnamed: 0   ProductId          UserId  Score  \\\n",
       "0             0  B003XPF9BO  A3R7JR3FMEBXQB      5   \n",
       "1           297  B003VXHGPK  A21VWSCGW7UUAR      4   \n",
       "2           296  B008JKTTUA  A34XBAIFT02B60      1   \n",
       "3           295  B000LKTTTW  A14MQ40CCU8B13      5   \n",
       "4           294  B001D09KAM  A34XBAIFT02B60      1   \n",
       "..          ...         ...             ...    ...   \n",
       "995         623  B0000CFXYA  A3GS4GWPIBV0NT      1   \n",
       "996         624  B0001BH5YM   A1BZ3HMAKK0NC      5   \n",
       "997         625  B0009ET7TC  A2FSDQY5AI6TNX      5   \n",
       "998         619  B007PA32L2  A15FF2P7RPKH6G      5   \n",
       "999         999  B001EQ5GEO  A3VYU0VO6DYV6I      5   \n",
       "\n",
       "                                               Summary  \\\n",
       "0    where does one  start...and stop... with a tre...   \n",
       "1                     Good, but not Wolfgang Puck good   \n",
       "2    Should advertise coconut as an ingredient more...   \n",
       "3                                     Best tomato soup   \n",
       "4    Should advertise coconut as an ingredient more...   \n",
       "..                                                 ...   \n",
       "995                      Strange inflammation response   \n",
       "996                      My favorite and only  MUSTARD   \n",
       "997                           My furbabies LOVE these!   \n",
       "998                          got this for the daughter   \n",
       "999                                I love Maui Coffee!   \n",
       "\n",
       "                                                  Text  \\\n",
       "0    Wanted to save some to bring to my Chicago fam...   \n",
       "1    Honestly, I have to admit that I expected a li...   \n",
       "2    First, these should be called Mac - Coconut ba...   \n",
       "3    I have a hard time finding packaged food of an...   \n",
       "4    First, these should be called Mac - Coconut ba...   \n",
       "..                                                 ...   \n",
       "995  Truthfully wasn't crazy about the taste of the...   \n",
       "996  You've just got to experience this mustard... ...   \n",
       "997  Shake the container and they come running. Eve...   \n",
       "998  all i have heard since she got a kuerig is why...   \n",
       "999  My first experience with Maui Coffee was bring...   \n",
       "\n",
       "                                              combined  n_tokens  \\\n",
       "0    Title: where does one  start...and stop... wit...        52   \n",
       "1    Title: Good, but not Wolfgang Puck good; Conte...       178   \n",
       "2    Title: Should advertise coconut as an ingredie...        78   \n",
       "3    Title: Best tomato soup; Content: I have a har...       111   \n",
       "4    Title: Should advertise coconut as an ingredie...        78   \n",
       "..                                                 ...       ...   \n",
       "995  Title: Strange inflammation response; Content:...       110   \n",
       "996  Title: My favorite and only  MUSTARD; Content:...        80   \n",
       "997  Title: My furbabies LOVE these!; Content: Shak...        47   \n",
       "998  Title: got this for the daughter; Content: all...        50   \n",
       "999  Title: I love Maui Coffee!; Content: My first ...       118   \n",
       "\n",
       "                                             embedding sentiment  \n",
       "0    [0.007018072064965963, -0.02731654793024063, 0...  positive  \n",
       "1    [-0.003140551969408989, -0.009995664469897747,...  positive  \n",
       "2    [-0.01757248118519783, -8.266511576948687e-05,...  negative  \n",
       "3    [-0.0013932279543951154, -0.011112828738987446...  positive  \n",
       "4    [-0.01757248118519783, -8.266511576948687e-05,...  negative  \n",
       "..                                                 ...       ...  \n",
       "995  [0.00011091353371739388, -0.00466986745595932,...  negative  \n",
       "996  [-0.020869314670562744, -0.013138455338776112,...  positive  \n",
       "997  [-0.009749102406203747, -0.0068712360225617886...  positive  \n",
       "998  [-0.00521062919870019, 0.0009606690146028996, ...  positive  \n",
       "999  [-0.006057822611182928, -0.015015840530395508,...  positive  \n",
       "\n",
       "[925 rows x 10 columns]>"
      ]
     },
     "execution_count": 4,
     "metadata": {},
     "output_type": "execute_result"
    }
   ],
   "source": [
    "df.head"
   ]
  },
  {
   "cell_type": "markdown",
   "id": "5822dab9",
   "metadata": {},
   "source": [
    "每一条评论都用我们上面的方法，和一个预先设定好的好评和差评的文本去做对比，然后看它离哪个近一些。这里的好评和差评，我们写得稍微长了一点，分别是 “An Amazon review with a negative sentiment.” 和 “An Amazon review with a positive sentiment.”。\n",
    "在计算完结果之后，我们利用 Scikit-learn 这个机器学习的库，将我们的预测值和实际用户打出的星数做个对比，然后输出对比结果。需要的代码，也就不到 20 行。"
   ]
  },
  {
   "cell_type": "code",
   "execution_count": null,
   "id": "6e202b58",
   "metadata": {},
   "outputs": [],
   "source": [
    "\n",
    "from openai.embeddings_utils import cosine_similarity, get_embedding\n",
    "\n",
    "from sklearn.metrics import PrecisionRecallDisplay\n",
    "\n",
    "def evaluate_embeddings_approach(\n",
    "    labels = ['negative', 'positive'], \n",
    "    model = EMBEDDING_MODEL,\n",
    "):\n",
    "    label_embeddings = [get_embedding(label, engine=model) for label in labels]\n",
    "\n",
    "    def label_score(review_embedding, label_embeddings):\n",
    "        return cosine_similarity(review_embedding, label_embeddings[1]) - cosine_similarity(review_embedding, label_embeddings[0])\n",
    "\n",
    "    probas = df[\"embedding\"].apply(lambda x: label_score(x, label_embeddings))\n",
    "    preds = probas.apply(lambda x: 'positive' if x>0 else 'negative')\n",
    "\n",
    "    report = classification_report(df.sentiment, preds)\n",
    "    print(report)\n",
    "\n",
    "    display = PrecisionRecallDisplay.from_predictions(df.sentiment, probas, pos_label='positive')\n",
    "    _ = display.ax_.set_title(\"2-class Precision-Recall curve\")\n",
    "\n",
    "evaluate_embeddings_approach(labels=['An Amazon review with a negative sentiment.', 'An Amazon review with a positive sentiment.'])"
   ]
  }
 ],
 "metadata": {
  "kernelspec": {
   "display_name": "Python 3",
   "language": "python",
   "name": "python3"
  },
  "language_info": {
   "codemirror_mode": {
    "name": "ipython",
    "version": 3
   },
   "file_extension": ".py",
   "mimetype": "text/x-python",
   "name": "python",
   "nbconvert_exporter": "python",
   "pygments_lexer": "ipython3",
   "version": "3.8.8"
  }
 },
 "nbformat": 4,
 "nbformat_minor": 5
}
